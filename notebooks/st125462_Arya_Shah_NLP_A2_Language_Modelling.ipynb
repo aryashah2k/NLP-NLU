{
 "cells": [
  {
   "cell_type": "markdown",
   "id": "e27a8d54-f246-4c42-9ed5-84e57e6fd718",
   "metadata": {},
   "source": [
    "#  AT82.05 Artificial Intelligence: Natural Language Understanding (NLU)\n",
    "\n",
    "## A2: Language Model\n",
    "\n",
    "### Name: Arya Shah\n",
    "### StudentID: st125462\n",
    "\n",
    "-----------\n",
    "\n",
    "In this assignment, we will focus on building a language model using a text dataset of my choice- I make use of the Shakespeare Corpus provided by MIT. The objective is to train a model that can generate coherent and contextually relevant text based on a given input. Additionally, I will develop a simple web application (integrating with the existing web app storing all the assignments for this course) to demonstrate the capabilities of my language model interactively.\n",
    "\n",
    "You can find the GitHub Repository for the assignment here:\n",
    "- https://github.com/aryashah2k/NLP-NLU (Complete Web App)\n",
    "- https://github.com/aryashah2k/NLP-NLU/tree/main/notebooks (Assignment Notebooks)\n",
    "- https://github.com/aryashah2k/NLP-NLU/tree/main/reports (Assignment Reports)"
   ]
  },
  {
   "cell_type": "markdown",
   "id": "9bb08bcd-c6ad-49db-a2d8-73ac8a5d9559",
   "metadata": {},
   "source": [
    "## Task 1. Dataset Acquisition - Your first task is to find a suitable text dataset. (1 points) ✅\n",
    "\n",
    "Choose your dataset and provide a brief description. Ensure to source this dataset from reputable public databases or repositories. It is imperative to give proper credit to the dataset source in your documentation. ✅\n",
    "\n",
    "Note: The dataset can be based on any theme such as Harry Potter, Star Wars, jokes, Isaac Asimov’s works, Thai stories, etc. The key requirement is that the dataset should be text-rich and suitable for language modeling. ✅\n",
    "\n",
    "---------------\n",
    "\n",
    "I make use of the following dataset: **The Complete Works of William Shakespeare- Provided by Project Gutenberg**\n",
    "\n",
    "Link: https://ocw.mit.edu/ans7870/6/6.006/s08/lecturenotes/files/t8.shakespeare.txt"
   ]
  },
  {
   "cell_type": "markdown",
   "id": "c9dce7f3-f781-4e9b-9cdd-e4862d9bfe72",
   "metadata": {},
   "source": [
    "# Task 2. Model Training - Incorporate the chosen dataset into our existing code framework. ✅\n",
    "\n",
    "Train a language model that can understand the context and style of the text."
   ]
  },
  {
   "cell_type": "code",
   "execution_count": 1,
   "id": "3274cd6f-1a0e-492b-9283-a5fccf632870",
   "metadata": {},
   "outputs": [
    {
     "name": "stdout",
     "output_type": "stream",
     "text": [
      "Using device: cuda\n",
      "Loading Shakespeare dataset...\n",
      "\n",
      "Building vocabulary...\n",
      "\n",
      "Tokenizing and encoding data...\n",
      "Vocabulary size: 14965\n",
      "Train size: 788979\n",
      "Validation size: 169067\n",
      "Test size: 169068\n",
      "\n",
      "Preparing data batches...\n",
      "Train shape: torch.Size([64, 12327])\n",
      "Valid shape: torch.Size([64, 2641])\n",
      "Test shape: torch.Size([64, 2641])\n"
     ]
    },
    {
     "name": "stderr",
     "output_type": "stream",
     "text": [
      "/home/jupyter-st125462/.local/lib/python3.12/site-packages/torch/optim/lr_scheduler.py:62: UserWarning: The verbose parameter is deprecated. Please use get_last_lr() to access the learning rate.\n",
      "  warnings.warn(\n"
     ]
    },
    {
     "name": "stdout",
     "output_type": "stream",
     "text": [
      "\n",
      "Model parameters: 35,562,821\n",
      "\n",
      "Starting training...\n"
     ]
    },
    {
     "name": "stderr",
     "output_type": "stream",
     "text": [
      "Epoch 1: 353it [00:16, 21.98it/s, loss=5.481]                         \n"
     ]
    },
    {
     "name": "stdout",
     "output_type": "stream",
     "text": [
      "\n",
      "Epoch: 01 | Time: 0m 17s\n",
      "\tTrain Loss: 6.139 | Train PPL: 463.437\n",
      "\tValid Loss: 6.694 | Valid PPL: 807.514\n",
      "\tNew best model saved!\n"
     ]
    },
    {
     "name": "stderr",
     "output_type": "stream",
     "text": [
      "Epoch 2: 353it [00:15, 22.14it/s, loss=5.169]                         \n"
     ]
    },
    {
     "name": "stdout",
     "output_type": "stream",
     "text": [
      "\n",
      "Epoch: 02 | Time: 0m 17s\n",
      "\tTrain Loss: 5.503 | Train PPL: 245.450\n",
      "\tValid Loss: 5.596 | Valid PPL: 269.234\n",
      "\tNew best model saved!\n"
     ]
    },
    {
     "name": "stderr",
     "output_type": "stream",
     "text": [
      "Epoch 3: 353it [00:16, 21.93it/s, loss=4.844]                         \n"
     ]
    },
    {
     "name": "stdout",
     "output_type": "stream",
     "text": [
      "\n",
      "Epoch: 03 | Time: 0m 17s\n",
      "\tTrain Loss: 5.174 | Train PPL: 176.675\n",
      "\tValid Loss: 5.477 | Valid PPL: 239.035\n",
      "\tNew best model saved!\n"
     ]
    },
    {
     "name": "stderr",
     "output_type": "stream",
     "text": [
      "Epoch 4: 353it [00:16, 21.84it/s, loss=4.702]                         \n"
     ]
    },
    {
     "name": "stdout",
     "output_type": "stream",
     "text": [
      "\n",
      "Epoch: 04 | Time: 0m 17s\n",
      "\tTrain Loss: 5.006 | Train PPL: 149.273\n",
      "\tValid Loss: 5.416 | Valid PPL: 224.944\n",
      "\tNew best model saved!\n"
     ]
    },
    {
     "name": "stderr",
     "output_type": "stream",
     "text": [
      "Epoch 5: 353it [00:16, 21.83it/s, loss=4.455]                         \n"
     ]
    },
    {
     "name": "stdout",
     "output_type": "stream",
     "text": [
      "\n",
      "Epoch: 05 | Time: 0m 17s\n",
      "\tTrain Loss: 4.874 | Train PPL: 130.862\n",
      "\tValid Loss: 5.382 | Valid PPL: 217.380\n",
      "\tNew best model saved!\n"
     ]
    },
    {
     "name": "stderr",
     "output_type": "stream",
     "text": [
      "Epoch 6: 353it [00:16, 21.79it/s, loss=4.269]                         \n"
     ]
    },
    {
     "name": "stdout",
     "output_type": "stream",
     "text": [
      "\n",
      "Epoch: 06 | Time: 0m 17s\n",
      "\tTrain Loss: 4.762 | Train PPL: 116.931\n",
      "\tValid Loss: 5.370 | Valid PPL: 214.886\n",
      "\tNew best model saved!\n"
     ]
    },
    {
     "name": "stderr",
     "output_type": "stream",
     "text": [
      "Epoch 7: 353it [00:16, 21.77it/s, loss=4.133]                         \n"
     ]
    },
    {
     "name": "stdout",
     "output_type": "stream",
     "text": [
      "\n",
      "Epoch: 07 | Time: 0m 17s\n",
      "\tTrain Loss: 4.662 | Train PPL: 105.878\n",
      "\tValid Loss: 5.392 | Valid PPL: 219.540\n"
     ]
    },
    {
     "name": "stderr",
     "output_type": "stream",
     "text": [
      "Epoch 8: 353it [00:16, 21.67it/s, loss=4.002]                         \n"
     ]
    },
    {
     "name": "stdout",
     "output_type": "stream",
     "text": [
      "\n",
      "Epoch: 08 | Time: 0m 17s\n",
      "\tTrain Loss: 4.567 | Train PPL: 96.274\n",
      "\tValid Loss: 5.382 | Valid PPL: 217.532\n"
     ]
    },
    {
     "name": "stderr",
     "output_type": "stream",
     "text": [
      "Epoch 9: 353it [00:16, 21.52it/s, loss=3.784]                         \n"
     ]
    },
    {
     "name": "stdout",
     "output_type": "stream",
     "text": [
      "\n",
      "Epoch: 09 | Time: 0m 18s\n",
      "\tTrain Loss: 4.479 | Train PPL: 88.141\n",
      "\tValid Loss: 5.393 | Valid PPL: 219.924\n"
     ]
    },
    {
     "name": "stderr",
     "output_type": "stream",
     "text": [
      "Epoch 10: 353it [00:16, 21.11it/s, loss=3.730]                         \n"
     ]
    },
    {
     "name": "stdout",
     "output_type": "stream",
     "text": [
      "\n",
      "Epoch: 10 | Time: 0m 18s\n",
      "\tTrain Loss: 4.373 | Train PPL: 79.263\n",
      "\tValid Loss: 5.392 | Valid PPL: 219.703\n"
     ]
    },
    {
     "name": "stderr",
     "output_type": "stream",
     "text": [
      "Epoch 11: 353it [00:16, 20.79it/s, loss=3.600]                         \n"
     ]
    },
    {
     "name": "stdout",
     "output_type": "stream",
     "text": [
      "\n",
      "Epoch: 11 | Time: 0m 18s\n",
      "\tTrain Loss: 4.314 | Train PPL: 74.718\n",
      "\tValid Loss: 5.395 | Valid PPL: 220.200\n"
     ]
    },
    {
     "name": "stderr",
     "output_type": "stream",
     "text": [
      "Epoch 12: 353it [00:17, 20.68it/s, loss=3.571]                         \n"
     ]
    },
    {
     "name": "stdout",
     "output_type": "stream",
     "text": [
      "\n",
      "Epoch: 12 | Time: 0m 18s\n",
      "\tTrain Loss: 4.261 | Train PPL: 70.883\n",
      "\tValid Loss: 5.412 | Valid PPL: 224.171\n"
     ]
    },
    {
     "name": "stderr",
     "output_type": "stream",
     "text": [
      "Epoch 13: 353it [00:17, 20.63it/s, loss=3.458]                         \n"
     ]
    },
    {
     "name": "stdout",
     "output_type": "stream",
     "text": [
      "\n",
      "Epoch: 13 | Time: 0m 18s\n",
      "\tTrain Loss: 4.206 | Train PPL: 67.075\n",
      "\tValid Loss: 5.397 | Valid PPL: 220.787\n"
     ]
    },
    {
     "name": "stderr",
     "output_type": "stream",
     "text": [
      "Epoch 14: 353it [00:17, 20.60it/s, loss=3.398]                         \n"
     ]
    },
    {
     "name": "stdout",
     "output_type": "stream",
     "text": [
      "\n",
      "Epoch: 14 | Time: 0m 18s\n",
      "\tTrain Loss: 4.171 | Train PPL: 64.768\n",
      "\tValid Loss: 5.402 | Valid PPL: 221.832\n"
     ]
    },
    {
     "name": "stderr",
     "output_type": "stream",
     "text": [
      "Epoch 15: 353it [00:17, 20.58it/s, loss=3.424]                         \n"
     ]
    },
    {
     "name": "stdout",
     "output_type": "stream",
     "text": [
      "\n",
      "Epoch: 15 | Time: 0m 18s\n",
      "\tTrain Loss: 4.143 | Train PPL: 63.019\n",
      "\tValid Loss: 5.418 | Valid PPL: 225.407\n"
     ]
    },
    {
     "name": "stderr",
     "output_type": "stream",
     "text": [
      "Epoch 16: 353it [00:17, 20.60it/s, loss=3.364]                         \n"
     ]
    },
    {
     "name": "stdout",
     "output_type": "stream",
     "text": [
      "\n",
      "Epoch: 16 | Time: 0m 18s\n",
      "\tTrain Loss: 4.113 | Train PPL: 61.142\n",
      "\tValid Loss: 5.409 | Valid PPL: 223.463\n"
     ]
    },
    {
     "name": "stderr",
     "output_type": "stream",
     "text": [
      "Epoch 17: 353it [00:17, 20.59it/s, loss=3.363]                         \n"
     ]
    },
    {
     "name": "stdout",
     "output_type": "stream",
     "text": [
      "\n",
      "Epoch: 17 | Time: 0m 18s\n",
      "\tTrain Loss: 4.099 | Train PPL: 60.296\n",
      "\tValid Loss: 5.417 | Valid PPL: 225.192\n"
     ]
    },
    {
     "name": "stderr",
     "output_type": "stream",
     "text": [
      "Epoch 18: 353it [00:17, 20.55it/s, loss=3.332]                         \n"
     ]
    },
    {
     "name": "stdout",
     "output_type": "stream",
     "text": [
      "\n",
      "Epoch: 18 | Time: 0m 18s\n",
      "\tTrain Loss: 4.086 | Train PPL: 59.477\n",
      "\tValid Loss: 5.424 | Valid PPL: 226.740\n"
     ]
    },
    {
     "name": "stderr",
     "output_type": "stream",
     "text": [
      "Epoch 19: 353it [00:17, 20.52it/s, loss=3.293]                         \n"
     ]
    },
    {
     "name": "stdout",
     "output_type": "stream",
     "text": [
      "\n",
      "Epoch: 19 | Time: 0m 18s\n",
      "\tTrain Loss: 4.083 | Train PPL: 59.337\n",
      "\tValid Loss: 5.430 | Valid PPL: 228.081\n"
     ]
    },
    {
     "name": "stderr",
     "output_type": "stream",
     "text": [
      "Epoch 20: 353it [00:17, 20.52it/s, loss=3.249]                         \n"
     ]
    },
    {
     "name": "stdout",
     "output_type": "stream",
     "text": [
      "\n",
      "Epoch: 20 | Time: 0m 18s\n",
      "\tTrain Loss: 4.078 | Train PPL: 59.025\n",
      "\tValid Loss: 5.441 | Valid PPL: 230.606\n"
     ]
    },
    {
     "name": "stderr",
     "output_type": "stream",
     "text": [
      "Epoch 21: 353it [00:17, 20.51it/s, loss=3.283]                         \n"
     ]
    },
    {
     "name": "stdout",
     "output_type": "stream",
     "text": [
      "\n",
      "Epoch: 21 | Time: 0m 18s\n",
      "\tTrain Loss: 4.067 | Train PPL: 58.375\n",
      "\tValid Loss: 5.442 | Valid PPL: 230.962\n"
     ]
    },
    {
     "name": "stderr",
     "output_type": "stream",
     "text": [
      "Epoch 22: 353it [00:17, 20.52it/s, loss=3.314]                         \n"
     ]
    },
    {
     "name": "stdout",
     "output_type": "stream",
     "text": [
      "\n",
      "Epoch: 22 | Time: 0m 18s\n",
      "\tTrain Loss: 4.078 | Train PPL: 59.011\n",
      "\tValid Loss: 5.416 | Valid PPL: 224.940\n"
     ]
    },
    {
     "name": "stderr",
     "output_type": "stream",
     "text": [
      "Epoch 23: 353it [00:17, 20.49it/s, loss=3.319]                         \n"
     ]
    },
    {
     "name": "stdout",
     "output_type": "stream",
     "text": [
      "\n",
      "Epoch: 23 | Time: 0m 18s\n",
      "\tTrain Loss: 4.076 | Train PPL: 58.931\n",
      "\tValid Loss: 5.412 | Valid PPL: 224.008\n"
     ]
    },
    {
     "name": "stderr",
     "output_type": "stream",
     "text": [
      "Epoch 24: 353it [00:17, 20.47it/s, loss=3.285]                         \n"
     ]
    },
    {
     "name": "stdout",
     "output_type": "stream",
     "text": [
      "\n",
      "Epoch: 24 | Time: 0m 18s\n",
      "\tTrain Loss: 4.071 | Train PPL: 58.612\n",
      "\tValid Loss: 5.408 | Valid PPL: 223.274\n"
     ]
    },
    {
     "name": "stderr",
     "output_type": "stream",
     "text": [
      "Epoch 25: 353it [00:17, 20.49it/s, loss=3.386]                         \n"
     ]
    },
    {
     "name": "stdout",
     "output_type": "stream",
     "text": [
      "\n",
      "Epoch: 25 | Time: 0m 18s\n",
      "\tTrain Loss: 4.087 | Train PPL: 59.589\n",
      "\tValid Loss: 5.398 | Valid PPL: 221.060\n"
     ]
    },
    {
     "name": "stderr",
     "output_type": "stream",
     "text": [
      "/tmp/ipykernel_1211218/451638478.py:348: FutureWarning: You are using `torch.load` with `weights_only=False` (the current default value), which uses the default pickle module implicitly. It is possible to construct malicious pickle data which will execute arbitrary code during unpickling (See https://github.com/pytorch/pytorch/blob/main/SECURITY.md#untrusted-models for more details). In a future release, the default value for `weights_only` will be flipped to `True`. This limits the functions that could be executed during unpickling. Arbitrary objects will no longer be allowed to be loaded via this mode unless they are explicitly allowlisted by the user via `torch.serialization.add_safe_globals`. We recommend you start setting `weights_only=True` for any use case where you don't have full control of the loaded file. Please open an issue on GitHub for any issues related to this experimental feature.\n",
      "  checkpoint = torch.load('shakespeare_model.pt')\n"
     ]
    },
    {
     "name": "stdout",
     "output_type": "stream",
     "text": [
      "\n",
      "Test Loss: 5.536 | Test PPL: 253.683\n",
      "\n",
      "Generating text with different temperatures...\n",
      "\n",
      "Prompt: To be or not\n",
      "--------------------------------------------------\n",
      "Temperature 0.20:\n",
      "To be or not . i ll be sworn to be a man . i have rather be a fool , and i am sure to be a man . i am a fool , and i am a fool , and i will be sworn . i am a good man , and i am not to be a man . i am a good man , and i will be a good man . i am a man , and i ll tell you . i am not a good man , and i ll be a man , and i will\n",
      "\n",
      "Temperature 0.50:\n",
      "To be or not , or a great gallant man , and no more than a most king s body . the very fiend , the next of the king , and the king , a very fold fellow . i have a king , and the king of wales , or all the duke of york , with the king , the duke of wales , and the queen of gloucester , with the king , with the duke of westmoreland , and two a prince of venice ; a weaver in his forces and his train , attended of the king ,\n",
      "\n",
      "Temperature 0.70:\n",
      "To be or not , or a great gallant man , and no more than a most king s body . ah , my gentle lord , i pray you , master , i am too guilty , and to the hand of these entreaty , after the instant that can be ; i have rather be glad his will , as you are in love , a rush . charles . how goes it ? if thou dost ; i say , how you may find him . exit . scene ii . inverness . the church of leonato s house enter helena\n",
      "\n",
      "Temperature 0.80:\n",
      "To be or not ere it were so . i have rather add let me have a king s body with the great right . i pray them , sir , thou art sick ; but so , as to the hand of these entreaty , after the instant shall she be long ; let me not be nam d with my hat . i break you in a mocker . perchance that i can must be content to give ; their powers are wont d in a basket . exit . scene ii . inverness . the church of leonato s house enter\n",
      "\n",
      "Temperature 1.00:\n",
      "To be or not ere it were so near i have , and let me have employ d s body with the great right . i pray them ; you shall go with it ; but so , constant to true mrs ; i prithee , after addition to beg of speech i ; let me not be nam d with my hat . i break you in a mocker . perchance that i can must argument if london give ; their lands are wont d in a twofold air ; and never put in myself obeying old of your wrong . dost thou\n",
      "\n",
      "\n",
      "Prompt: Romeo, Romeo\n",
      "--------------------------------------------------\n",
      "Temperature 0.20:\n",
      "Romeo, Romeo , and a man , and a good man , and a man , a man , and a good man , and the king , and the king , and the king of wales , and the king of gloucester , a king , and a king , with the king , and his train , a king , a king , and the king of gloucester , a king of wales , a king of wales , a king of wales , the king of gloucester , a king of wales , and a king , a king\n",
      "\n",
      "Temperature 0.50:\n",
      "Romeo, Romeo , and a gallant man , and a good power , a soldier , a very man . a little fellow ; a very man , and a very months . i have a king , and the king of wales , or all the duke of york , with the king , the duke of wales , and the queen of gloucester , with the king , with the duke of westmoreland , and two a prince of venice ; a weaver in his forces and his train , attended of the king , and others , a king\n",
      "\n",
      "Temperature 0.70:\n",
      "Romeo, Romeo , a frenchman and attendants , and a fool , and a king s body , a very dish , the earl of burgundy ; a very daughter , with the king , and to the king sicinius . my love , i did beg of it . or let me see thee , his good lord , you are gone to be a mocker . charles . how goes it ? if thou dost ; i say , how you may find this . exit . scene ii . inverness . the church of leonato s house enter helena\n",
      "\n",
      "Temperature 0.80:\n",
      "Romeo, Romeo , a frenchman and attendants , and a fool , and a king s body , a great dish , the ordnance of his grandfather , and others , as archbishop , which makes a mountain hand ; and when you suffer upon the disciplines of it , or power , my lord , his virtue , canterbury , and in affairs , trip to the queen , and such the king with these london , and their lands are almost both in a basket . one p are put in his territories and hold up the troops of the\n",
      "\n",
      "Temperature 1.00:\n",
      "Romeo, Romeo , a frenchman and attendants , and worms let me have employ d s body with the great bank of the wild slaughter ; and let thee imagine it before our tailors , constant to the hand ; and when you suffer upon him shall she show it ; let you lose them . his virtue , canterbury , i break you in a mocker . perchance that i can must argument if london give ; their lands are wont d in a twofold air ; and never put in myself . lennox . by heaven . dost thou be\n",
      "\n",
      "\n",
      "Prompt: All the world's\n",
      "--------------------------------------------------\n",
      "Temperature 0.20:\n",
      "All the world's personae the king , and the king , and the king of wales , and a king , and the king of canterbury , and the king of wales , the king of gloucester , a king of wales , a king , and the king of gloucester , a king , a messenger , a armourer , a king , a king , a king , a king , a king , a king , a gentleman , a king of gloucester , a king of gloucester , a king , a king , a king , a king\n",
      "\n",
      "Temperature 0.50:\n",
      "All the world's palace d , and the king of england , let me have a king s body , and his right are by a subject ; and , as i think , i am , and to the king of these affairs , and i will be of the king s house ; he was his good company . you are in all , i would not think that i am with the king , and give me leave to say how you may be . i ll tell you . in my troth , i ll know . i ll\n",
      "\n",
      "Temperature 0.70:\n",
      "All the world's grave shall a king of orleans , and to let me have a king s body with the great bank of the wild slaughter of the town , and in the archbishop of norfolk , to the king of canterbury , kills the gates of warwick of gloucester , or power , with the prince his daughter , canterbury , the duke of wales , and attendants . charles . how now must we be ? my master is gone , and you shall find this air ; and never put the way of the church , and so in\n",
      "\n",
      "Temperature 0.80:\n",
      "All the world's grave shall a year of orleans , and no let me have a king s body with the great bank of the wild slaughter ; and the very quality of the archbishop , which the king must succeed the grub of agincourt ; and to beg of his own power , who he was his will , and you , in ruin , trip , and dwelling , which did the king with these london give ; their lands are almost both in a basket . one p are put in his territories and hold up the troops of the\n",
      "\n",
      "Temperature 1.00:\n",
      "All the world's grave shall a year of orleans , and no let me lose your victory s body with the great bank of the wild slaughter ; and let thee imagine it before our tailors , constant to the hand of these entreaty kills after addition unto the wind . kneels or power cloten . he was his will , canterbury . fal . aside they trip you till i perchance , how goes must argument if london give ; their lands are wont d in a twofold air ; and never put in myself obeying old of your wrong . dost\n",
      "\n",
      "\n",
      "Prompt: Friends, Romans, countrymen\n",
      "--------------------------------------------------\n",
      "Temperature 0.20:\n",
      "Friends, Romans, countrymen , and a man , and a good man , a king s daughter , and his son , and a king , and a king , and the king of wales , and the king of gloucester , a messenger , and a king , a king , a king , a gentleman , a king , a king , a king , and a king , a king , a king , a gentleman , and a king , a king , a widow , a king , a king , a gentleman , a king , a\n",
      "\n",
      "Temperature 0.50:\n",
      "Friends, Romans, countrymen , and a king of orleans , and a good lady , a king s body , a very lady , the earl of burgundy ; a roman of drum , archbishop of norfolk , to the king of york , attended to the king . king henry . i would have my good pleasure . i am content to see you all . exit . scene iii . another part of the king s palace enter duke , with the king , and a king . enter a messenger . enter a guardsman and colours , with drum and\n",
      "\n",
      "Temperature 0.70:\n",
      "Friends, Romans, countrymen , and a king of orleans , and a fool , and soldiers , with a torch armado . the garter is here , and all a very drum , and all the dukes of norfolk . i gav d you after the instant . moth . i will not have my good pleasure . i am content to see you all . exit . scene iii . another part of the king s camp enter york and evans lorenzo . you may be true . exit . scene ii . inverness . the church of leonato s house enter\n",
      "\n",
      "Temperature 0.80:\n",
      "Friends, Romans, countrymen , a frenchman and attendants , and a fool , and soldiers , with a torch armado . the garter is here , his grandfather , and others , as he had done , to fight with the grub of agincourt ; and to beg of his own power , my lord , his virtue , and you , in all the board of the dwelling , which did the king with these london give ; their lands are almost both in a basket . one p are put in his territories and hold up the troops of the hearing\n",
      "\n",
      "Temperature 1.00:\n",
      "Friends, Romans, countrymen , a frenchman and attendants with flint ; let me have employ d s body with the great bank of the wild slaughter ; and let thee imagine it before our tailors , constant to the hand ; and when you suffer upon him shall she show it ; let you lose them . his virtue , canterbury , i break you in a mocker . perchance that i can must argument if london give ; their lands are wont d in a twofold air ; and never put in myself . lennox . by heaven . dost thou be\n",
      "\n"
     ]
    }
   ],
   "source": [
    "import torch\n",
    "import torch.nn as nn\n",
    "import torch.optim as optim\n",
    "import math\n",
    "from tqdm import tqdm\n",
    "import matplotlib.pyplot as plt\n",
    "import time\n",
    "import random\n",
    "import re\n",
    "from collections import Counter\n",
    "\n",
    "# Set device and random seed for reproducibility\n",
    "device = torch.device('cuda' if torch.cuda.is_available() else 'cpu')\n",
    "SEED = 42\n",
    "torch.manual_seed(SEED)\n",
    "torch.backends.cudnn.deterministic = True\n",
    "\n",
    "class Vocabulary:\n",
    "    def __init__(self, min_freq=2):\n",
    "        self.min_freq = min_freq\n",
    "        self.itos = ['<unk>', '<eos>']\n",
    "        self.stoi = {token: idx for idx, token in enumerate(self.itos)}\n",
    "    \n",
    "    def build_vocab(self, text):\n",
    "        # Simple tokenization by splitting on whitespace and punctuation\n",
    "        tokens = re.findall(r'\\b\\w+\\b|[.,!?;]', text.lower())\n",
    "        counter = Counter(tokens)\n",
    "        \n",
    "        # Add tokens that appear more than min_freq times\n",
    "        for token, count in counter.items():\n",
    "            if count >= self.min_freq and token not in self.stoi:\n",
    "                self.stoi[token] = len(self.itos)\n",
    "                self.itos.append(token)\n",
    "    \n",
    "    def tokenize(self, text):\n",
    "        # Convert text to tokens\n",
    "        tokens = re.findall(r'\\b\\w+\\b|[.,!?;]', text.lower())\n",
    "        return tokens\n",
    "    \n",
    "    def encode(self, tokens):\n",
    "        # Convert tokens to indices\n",
    "        return [self.stoi.get(token, self.stoi['<unk>']) for token in tokens]\n",
    "    \n",
    "    def decode(self, indices):\n",
    "        # Convert indices back to tokens\n",
    "        return [self.itos[idx] for idx in indices]\n",
    "    \n",
    "    def __len__(self):\n",
    "        return len(self.itos)\n",
    "\n",
    "def load_and_preprocess_data(file_path, train_ratio=0.7, val_ratio=0.15):\n",
    "    print(\"Loading Shakespeare dataset...\")\n",
    "    with open(file_path, 'r', encoding='utf-8') as f:\n",
    "        text = f.read()\n",
    "    \n",
    "    print(\"\\nBuilding vocabulary...\")\n",
    "    vocab = Vocabulary(min_freq=2)\n",
    "    vocab.build_vocab(text)\n",
    "    \n",
    "    print(\"\\nTokenizing and encoding data...\")\n",
    "    tokens = vocab.tokenize(text)\n",
    "    indices = vocab.encode(tokens)\n",
    "    \n",
    "    # Split into train, validation, and test sets\n",
    "    total_len = len(indices)\n",
    "    train_len = int(total_len * train_ratio)\n",
    "    val_len = int(total_len * val_ratio)\n",
    "    \n",
    "    train_data = indices[:train_len]\n",
    "    val_data = indices[train_len:train_len + val_len]\n",
    "    test_data = indices[train_len + val_len:]\n",
    "    \n",
    "    print(f\"Vocabulary size: {len(vocab)}\")\n",
    "    print(f\"Train size: {len(train_data)}\")\n",
    "    print(f\"Validation size: {len(val_data)}\")\n",
    "    print(f\"Test size: {len(test_data)}\")\n",
    "    \n",
    "    return train_data, val_data, test_data, vocab\n",
    "\n",
    "def batchify(data, batch_size):\n",
    "    # Work out how many batches we can get from the data\n",
    "    num_batches = len(data) // batch_size\n",
    "    # Trim off any extra elements that wouldn't cleanly fit\n",
    "    data = data[:num_batches * batch_size]\n",
    "    # Reshape into [batch_size, num_batches]\n",
    "    data = torch.tensor(data).view(batch_size, -1)\n",
    "    return data\n",
    "\n",
    "class LSTMLanguageModel(nn.Module):\n",
    "    def __init__(self, vocab_size, emb_dim, hid_dim, num_layers, dropout_rate):\n",
    "        super().__init__()\n",
    "        self.num_layers = num_layers\n",
    "        self.hid_dim = hid_dim\n",
    "        self.emb_dim = emb_dim\n",
    "        \n",
    "        self.embedding = nn.Embedding(vocab_size, emb_dim)\n",
    "        self.lstm = nn.LSTM(emb_dim, hid_dim, num_layers=num_layers, \n",
    "                           dropout=dropout_rate if num_layers > 1 else 0,\n",
    "                           batch_first=True)\n",
    "        self.dropout = nn.Dropout(dropout_rate)\n",
    "        self.fc = nn.Linear(hid_dim, vocab_size)\n",
    "        \n",
    "        self.init_weights()\n",
    "    \n",
    "    def init_weights(self):\n",
    "        init_range_emb = 0.1\n",
    "        init_range_other = 1/math.sqrt(self.hid_dim)\n",
    "        self.embedding.weight.data.uniform_(-init_range_emb, init_range_other)\n",
    "        self.fc.weight.data.uniform_(-init_range_other, init_range_other)\n",
    "        self.fc.bias.data.zero_()\n",
    "        \n",
    "        for i in range(self.num_layers):\n",
    "            self.lstm.all_weights[i][0] = torch.FloatTensor(4 * self.hid_dim,\n",
    "                self.emb_dim if i == 0 else self.hid_dim).uniform_(-init_range_other, init_range_other)\n",
    "            self.lstm.all_weights[i][1] = torch.FloatTensor(4 * self.hid_dim,\n",
    "                self.hid_dim).uniform_(-init_range_other, init_range_other)\n",
    "    \n",
    "    def init_hidden(self, batch_size):\n",
    "        weight = next(self.parameters())\n",
    "        return (weight.new_zeros(self.num_layers, batch_size, self.hid_dim),\n",
    "                weight.new_zeros(self.num_layers, batch_size, self.hid_dim))\n",
    "    \n",
    "    def detach_hidden(self, hidden):\n",
    "        return tuple(h.detach() for h in hidden)\n",
    "    \n",
    "    def forward(self, src, hidden):\n",
    "        # src: [batch_size, seq_len]\n",
    "        embedded = self.dropout(self.embedding(src))\n",
    "        # embedded: [batch_size, seq_len, emb_dim]\n",
    "        \n",
    "        output, hidden = self.lstm(embedded, hidden)\n",
    "        # output: [batch_size, seq_len, hid_dim]\n",
    "        # hidden: (h_n, c_n), each [num_layers, batch_size, hid_dim]\n",
    "        \n",
    "        output = self.dropout(output)\n",
    "        prediction = self.fc(output)\n",
    "        # prediction: [batch_size, seq_len, vocab_size]\n",
    "        return prediction, hidden\n",
    "\n",
    "def get_batch(data, seq_len, idx):\n",
    "    seq_len = min(seq_len, data.size(1) - 1 - idx)\n",
    "    src = data[:, idx:idx+seq_len].contiguous()\n",
    "    tgt = data[:, idx+1:idx+1+seq_len].contiguous()\n",
    "    return src, tgt\n",
    "\n",
    "def train(model, data, optimizer, criterion, batch_size, seq_len, clip, epoch):\n",
    "    model.train()\n",
    "    total_loss = 0\n",
    "    hidden = model.init_hidden(batch_size)\n",
    "    \n",
    "    num_batches = (data.size(1) - 1) // seq_len\n",
    "    progress_bar = tqdm(range(0, data.size(1) - 1, seq_len),\n",
    "                       desc=f'Epoch {epoch}', total=num_batches)\n",
    "    \n",
    "    for idx in progress_bar:\n",
    "        optimizer.zero_grad()\n",
    "        hidden = model.detach_hidden(hidden)\n",
    "        \n",
    "        src, tgt = get_batch(data, seq_len, idx)\n",
    "        src, tgt = src.to(device), tgt.to(device)\n",
    "        \n",
    "        prediction, hidden = model(src, hidden)\n",
    "        \n",
    "        # Flatten the prediction and target tensors for loss calculation\n",
    "        prediction = prediction.reshape(-1, prediction.size(-1))\n",
    "        tgt = tgt.reshape(-1)\n",
    "        \n",
    "        loss = criterion(prediction, tgt)\n",
    "        loss.backward()\n",
    "        torch.nn.utils.clip_grad_norm_(model.parameters(), clip)\n",
    "        optimizer.step()\n",
    "        \n",
    "        total_loss += loss.item()\n",
    "        progress_bar.set_postfix({'loss': f'{loss.item():.3f}'})\n",
    "    \n",
    "    return total_loss / num_batches\n",
    "\n",
    "def evaluate(model, data, criterion, batch_size, seq_len):\n",
    "    model.eval()\n",
    "    total_loss = 0\n",
    "    hidden = model.init_hidden(batch_size)\n",
    "    num_batches = (data.size(1) - 1) // seq_len\n",
    "    \n",
    "    with torch.no_grad():\n",
    "        for idx in range(0, data.size(1) - 1, seq_len):\n",
    "            src, tgt = get_batch(data, seq_len, idx)\n",
    "            src, tgt = src.to(device), tgt.to(device)\n",
    "            \n",
    "            prediction, hidden = model(src, hidden)\n",
    "            hidden = model.detach_hidden(hidden)\n",
    "            \n",
    "            # Flatten the prediction and target tensors for loss calculation\n",
    "            prediction = prediction.reshape(-1, prediction.size(-1))\n",
    "            tgt = tgt.reshape(-1)\n",
    "            \n",
    "            loss = criterion(prediction, tgt)\n",
    "            total_loss += loss.item()\n",
    "    \n",
    "    return total_loss / num_batches\n",
    "\n",
    "def plot_training_history(train_losses, val_losses, train_ppls, val_ppls):\n",
    "    plt.figure(figsize=(15, 5))\n",
    "    \n",
    "    # Plot losses\n",
    "    plt.subplot(1, 2, 1)\n",
    "    plt.plot(train_losses, label='Train Loss')\n",
    "    plt.plot(val_losses, label='Validation Loss')\n",
    "    plt.xlabel('Epoch')\n",
    "    plt.ylabel('Loss')\n",
    "    plt.title('Training and Validation Loss')\n",
    "    plt.legend()\n",
    "    \n",
    "    # Plot perplexity\n",
    "    plt.subplot(1, 2, 2)\n",
    "    plt.plot(train_ppls, label='Train PPL')\n",
    "    plt.plot(val_ppls, label='Validation PPL')\n",
    "    plt.xlabel('Epoch')\n",
    "    plt.ylabel('Perplexity')\n",
    "    plt.title('Training and Validation Perplexity')\n",
    "    plt.legend()\n",
    "    \n",
    "    plt.tight_layout()\n",
    "    plt.savefig('training_history.png')\n",
    "    plt.close()\n",
    "\n",
    "def generate_text(prompt, model, vocab, max_len=50, temperature=0.8, seed=None):\n",
    "    if seed is not None:\n",
    "        torch.manual_seed(seed)\n",
    "    \n",
    "    model.eval()\n",
    "    tokens = vocab.tokenize(prompt.lower())\n",
    "    input_ids = torch.tensor([vocab.encode(tokens)]).to(device)\n",
    "    hidden = model.init_hidden(1)\n",
    "    \n",
    "    generated_indices = []\n",
    "    with torch.no_grad():\n",
    "        for _ in range(max_len):\n",
    "            prediction, hidden = model(input_ids, hidden)\n",
    "            prediction = prediction[:, -1, :] / temperature\n",
    "            probs = torch.softmax(prediction, dim=-1)\n",
    "            next_token = torch.multinomial(probs, 1).item()\n",
    "            \n",
    "            # Resample if we get <unk>\n",
    "            while next_token == vocab.stoi['<unk>']:\n",
    "                next_token = torch.multinomial(probs, 1).item()\n",
    "            \n",
    "            if next_token == vocab.stoi['<eos>']:\n",
    "                break\n",
    "                \n",
    "            generated_indices.append(next_token)\n",
    "            input_ids = torch.tensor([[next_token]]).to(device)\n",
    "    \n",
    "    generated_tokens = vocab.decode(generated_indices)\n",
    "    return ' '.join([prompt] + generated_tokens)\n",
    "\n",
    "def main():\n",
    "    # Hyperparameters\n",
    "    BATCH_SIZE = 64\n",
    "    SEQ_LEN = 35\n",
    "    EMB_DIM = 400\n",
    "    HID_DIM = 1024\n",
    "    NUM_LAYERS = 2\n",
    "    DROPOUT_RATE = 0.5\n",
    "    CLIP = 0.25\n",
    "    LR = 0.001\n",
    "    EPOCHS = 25\n",
    "    \n",
    "    print(f\"Using device: {device}\")\n",
    "    \n",
    "    # Load and preprocess data\n",
    "    train_data, valid_data, test_data, vocab = load_and_preprocess_data(\n",
    "        't8.shakespeare.txt'\n",
    "    )\n",
    "    \n",
    "    print(\"\\nPreparing data batches...\")\n",
    "    train_data = batchify(train_data, BATCH_SIZE).to(device)\n",
    "    valid_data = batchify(valid_data, BATCH_SIZE).to(device)\n",
    "    test_data = batchify(test_data, BATCH_SIZE).to(device)\n",
    "    \n",
    "    print(f\"Train shape: {train_data.shape}\")\n",
    "    print(f\"Valid shape: {valid_data.shape}\")\n",
    "    print(f\"Test shape: {test_data.shape}\")\n",
    "    \n",
    "    # Initialize model, optimizer, and criterion\n",
    "    model = LSTMLanguageModel(\n",
    "        len(vocab), EMB_DIM, HID_DIM, NUM_LAYERS, DROPOUT_RATE\n",
    "    ).to(device)\n",
    "    \n",
    "    optimizer = optim.Adam(model.parameters(), lr=LR)\n",
    "    criterion = nn.CrossEntropyLoss()\n",
    "    scheduler = optim.lr_scheduler.ReduceLROnPlateau(\n",
    "        optimizer, mode='min', factor=0.5, patience=2, verbose=True\n",
    "    )\n",
    "    \n",
    "    print(f\"\\nModel parameters: {sum(p.numel() for p in model.parameters()):,}\")\n",
    "    \n",
    "    # Training loop\n",
    "    best_valid_loss = float('inf')\n",
    "    train_losses = []\n",
    "    val_losses = []\n",
    "    train_ppls = []\n",
    "    val_ppls = []\n",
    "    \n",
    "    print(\"\\nStarting training...\")\n",
    "    for epoch in range(EPOCHS):\n",
    "        start_time = time.time()\n",
    "        \n",
    "        train_loss = train(model, train_data, optimizer, criterion,\n",
    "                          BATCH_SIZE, SEQ_LEN, CLIP, epoch+1)\n",
    "        valid_loss = evaluate(model, valid_data, criterion,\n",
    "                            BATCH_SIZE, SEQ_LEN)\n",
    "        \n",
    "        # Calculate perplexities\n",
    "        train_ppl = math.exp(train_loss)\n",
    "        valid_ppl = math.exp(valid_loss)\n",
    "        \n",
    "        # Store metrics\n",
    "        train_losses.append(train_loss)\n",
    "        val_losses.append(valid_loss)\n",
    "        train_ppls.append(train_ppl)\n",
    "        val_ppls.append(valid_ppl)\n",
    "        \n",
    "        # Plot training history\n",
    "        plot_training_history(train_losses, val_losses, train_ppls, val_ppls)\n",
    "        \n",
    "        epoch_mins, epoch_secs = divmod(int(time.time() - start_time), 60)\n",
    "        print(f'\\nEpoch: {epoch+1:02} | Time: {epoch_mins}m {epoch_secs}s')\n",
    "        print(f'\\tTrain Loss: {train_loss:.3f} | Train PPL: {train_ppl:.3f}')\n",
    "        print(f'\\tValid Loss: {valid_loss:.3f} | Valid PPL: {valid_ppl:.3f}')\n",
    "        \n",
    "        # Save best model\n",
    "        if valid_loss < best_valid_loss:\n",
    "            best_valid_loss = valid_loss\n",
    "            torch.save({\n",
    "                'epoch': epoch,\n",
    "                'model_state_dict': model.state_dict(),\n",
    "                'optimizer_state_dict': optimizer.state_dict(),\n",
    "                'train_loss': train_loss,\n",
    "                'valid_loss': valid_loss,\n",
    "                'train_ppl': train_ppl,\n",
    "                'valid_ppl': valid_ppl,\n",
    "            }, 'shakespeare_model.pt')\n",
    "            print(f'\\tNew best model saved!')\n",
    "        \n",
    "        scheduler.step(valid_loss)\n",
    "    \n",
    "    # Load best model and evaluate on test set\n",
    "    checkpoint = torch.load('shakespeare_model.pt')\n",
    "    model.load_state_dict(checkpoint['model_state_dict'])\n",
    "    test_loss = evaluate(model, test_data, criterion, BATCH_SIZE, SEQ_LEN)\n",
    "    test_ppl = math.exp(test_loss)\n",
    "    print(f'\\nTest Loss: {test_loss:.3f} | Test PPL: {test_ppl:.3f}')\n",
    "    \n",
    "    # Generate text with different temperatures\n",
    "    print(\"\\nGenerating text with different temperatures...\")\n",
    "    test_prompts = [\n",
    "        \"To be or not\",\n",
    "        \"Romeo, Romeo\",\n",
    "        \"All the world's\",\n",
    "        \"Friends, Romans, countrymen\"\n",
    "    ]\n",
    "    \n",
    "    temperatures = [0.2, 0.5, 0.7, 0.8, 1.0]\n",
    "    seed = 42  # for reproducibility\n",
    "    \n",
    "    for prompt in test_prompts:\n",
    "        print(f\"\\nPrompt: {prompt}\")\n",
    "        print(\"-\" * 50)\n",
    "        for temp in temperatures:\n",
    "            generated = generate_text(\n",
    "                prompt, model, vocab, \n",
    "                max_len=100, temperature=temp, \n",
    "                seed=seed\n",
    "            )\n",
    "            print(f\"Temperature {temp:.2f}:\")\n",
    "            print(f\"{generated}\\n\")\n",
    "\n",
    "if __name__ == \"__main__\":\n",
    "    main()"
   ]
  },
  {
   "cell_type": "markdown",
   "id": "d3a04389-cb4d-4d5e-be41-0067e6970aab",
   "metadata": {},
   "source": [
    "# Analysis & Observations\n",
    "\n",
    "## I. Detail the steps taken to preprocess the text data. (1 points)✅\n",
    "\n",
    "The preprocessing pipeline implemented in the code consists of several key steps:\n",
    "\n",
    "**Vocabulary Building**\n",
    "- A custom Vocabulary class handles text tokenization and encoding\n",
    "- Tokens are extracted using regex pattern `\\b\\w+\\b|[.,!?;]` to capture both words and punctuation\n",
    "- Only tokens appearing more than twice (min_freq=2) are included in the vocabulary\n",
    "- Special tokens `<unk>` and `<eos>` are added for unknown words and end of sequence\n",
    "\n",
    "**Data Processing**\n",
    "- The Shakespeare dataset is split into train (70%), validation (15%), and test (15%) sets\n",
    "- Text is converted to lowercase and tokenized\n",
    "- Tokens are encoded into numerical indices using the vocabulary mapping\n",
    "- Data is organized into batches of size 64 for efficient training\n",
    "\n",
    "## II. Describe the model architecture and the training process. (1 points)✅\n",
    "\n",
    "**LSTM Language Model Architecture**\n",
    "- Embedding layer (vocab_size × 400) to convert token indices to dense vectors\n",
    "- 2-layer LSTM with 1024 hidden units and dropout (0.5) between layers\n",
    "- Final linear layer to project to vocabulary size for next token prediction\n",
    "- Total parameters: 35,562,821\n",
    "\n",
    "**Training Process**\n",
    "- Optimization using Adam with learning rate 0.001\n",
    "- Cross-entropy loss function for token prediction\n",
    "- Gradient clipping at 0.25 to prevent exploding gradients\n",
    "- ReduceLROnPlateau scheduler to adjust learning rate based on validation loss\n",
    "- Training for 25 epochs with sequence length of 35 tokens\n",
    "\n",
    "**Training Results**\n",
    "- Model achieved final training perplexity of 59.589\n",
    "- Best validation loss obtained in epoch 6 with perplexity of 214.886\n",
    "- Test set perplexity: 253.683\n",
    "\n",
    "The model demonstrates capability to generate Shakespeare-style text at various temperature settings, showing learned understanding of language patterns and structure"
   ]
  },
  {
   "attachments": {
    "9e5043fc-0f87-4216-a67e-4b273da48f24.png": {
     "image/png": "[encoded data removed]"
    }
   },
   "cell_type": "markdown",
   "id": "f7a85a64-4201-4737-a196-2c0c35661a4a",
   "metadata": {},
   "source": [
    "# Some Cool Findings 🤩\n",
    "\n",
    "**Loss and Perplexity Trends**\n",
    "- The model showed steady improvement in training loss, starting from 6.139 and reaching 4.087 by epoch 25\n",
    "- Training perplexity improved significantly from 463.437 to 59.589\n",
    "- Best validation performance occurred in epoch 6 with perplexity of 214.886\n",
    "\n",
    "**Convergence Patterns**\n",
    "- Most significant improvements happened in early epochs (1-6)\n",
    "- Training stabilized around epoch 15, with minimal improvements thereafter\n",
    "- Final test perplexity of 253.683 indicates moderate model performance\n",
    "\n",
    "![training_history.png](attachment:9e5043fc-0f87-4216-a67e-4b273da48f24.png)\n",
    "\n",
    "## Text Generation Analysis\n",
    "\n",
    "**Temperature Effects**\n",
    "- At low temperature (0.2): Output is more conservative and repetitive, often stuck in loops of similar phrases\n",
    "- At medium temperature (0.5-0.7): Generates more varied and coherent text while maintaining some structure\n",
    "- At high temperature (0.8-1.0): Produces more creative but occasionally incoherent text\n",
    "\n",
    "**Notable Generation Patterns**\n",
    "- Model shows understanding of Shakespeare's language style and vocabulary\n",
    "- Successfully maintains context for short sequences\n",
    "- Demonstrates ability to generate grammatically sound sentences at lower temperatures\n",
    "- Higher temperatures produce more diverse vocabulary but less coherent narrative structure\n",
    "\n",
    "The model's architecture (35,562,821 parameters) proved sufficient to capture Shakespearean language patterns, though the relatively high test perplexity suggests room for improvement in generating more coherent long-form text"
   ]
  },
  {
   "cell_type": "markdown",
   "id": "210790f3-b68c-466a-91ec-39aafa90ab57",
   "metadata": {},
   "source": [
    "# Thank You 🤗"
   ]
  },
  {
   "cell_type": "code",
   "execution_count": null,
   "id": "579d6a21-1e89-484a-b703-12481327af42",
   "metadata": {},
   "outputs": [],
   "source": []
  }
 ],
 "metadata": {
  "kernelspec": {
   "display_name": "Python 3 (ipykernel)",
   "language": "python",
   "name": "python3"
  },
  "language_info": {
   "codemirror_mode": {
    "name": "ipython",
    "version": 3
   },
   "file_extension": ".py",
   "mimetype": "text/x-python",
   "name": "python",
   "nbconvert_exporter": "python",
   "pygments_lexer": "ipython3",
   "version": "3.12.6"
  }
 },
 "nbformat": 4,
 "nbformat_minor": 5
}
